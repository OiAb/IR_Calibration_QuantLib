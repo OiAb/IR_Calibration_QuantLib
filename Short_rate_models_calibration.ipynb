{
 "cells": [
  {
   "cell_type": "markdown",
   "metadata": {},
   "source": [
    "# Short Interest Rate Model Calibration with QuantLib-Python\n",
    "\n",
    "## Hull-White 1 Factor Model\n",
    "\n",
    "The Hull-White model is a practical exogenous model for fitting market interest rate term structures, described by:\n",
    "\n",
    "$$ dr_t = (\\theta_t - a r_t) \\, dt + \\sigma \\, dW_t $$\n",
    "\n",
    "Where:\n",
    "- $a$ \\: is the mean reversion constant ;\n",
    "- $\\sigma$ \\: is the volatility parameter ;\n",
    "- $\\theta_t$ \\: is chosen to fit the input term structure of interest rates.\n",
    "\n",
    "### Calibration in QuantLib-Python\n",
    "\n",
    "To calibrate the Hull-White model in QuantLib-Python, use the `JamshidianSwaptionEngine`. This requires setting up the model with appropriate market data and then solving for the best-fit parameters $a$ and $ \\sigma $ that minimize the error in pricing known swaptions.\n",
    "\n",
    "## Black Karasinski Model\n",
    "\n",
    "The Black Karasinski model is an interest rate model characterized by:\n",
    "\n",
    "$$ d \\ln(r_t) = (\\theta_t - a \\ln(r_t)) \\, dt + \\sigma \\, dW_t $$\n",
    "\n",
    "### Calibration in QuantLib-Python\n",
    "\n",
    "As this model is non-affine, it necessitates the use of the `TreeSwaptionEngie` for calibration, which is versatile enough to handle various non-affine short rate models. The process involves fitting the model to market swaption volatilities by iteratively adjusting $a$ and $\\sigma$ .\n",
    "\n",
    "## G2 ++ Model : A Two-Factor Calibration Example\n",
    "\n",
    "The G2++ model involves two factors, $x_t$ and $y_t$, which add complexity and accuaracy to the fitting process :\n",
    "\n",
    "$$ dr_t = \\phi(t) + x_t + y_t $$\n",
    "$$ dx_t = -ax_t \\, dt + \\sigma \\, dW_{t}^{1} $$\n",
    "$$ dy_t = -by_t \\, dt + \\eta \\, dW_{t}^{2} $$\n",
    "$$ \\langle dW_{t}^{1}, dW_{t}^{2} \\rangle = \\rho \\, dt $$\n",
    "\n",
    "### Calibration in QuantLib-Python\n",
    "\n",
    "For calibrating the G2++ model, QuantLib-Python offers several engines including `TreeSwaptionEngine`, `G2SwaptionEngine` and `FdG2SwaptionEngine`. The choice of engine affects both the calibration time and the accuracy of the model fitted. Calibration typically involves using historical data to estimate the parameters $a, b, \\sigma, \\eta$ and $\\rho$, ensuring the model's effectiveness in simulating and predictinf financial analysis and decision-making.\n"
   ]
  },
  {
   "cell_type": "code",
   "execution_count": 14,
   "metadata": {},
   "outputs": [],
   "source": [
    "from QuantLib import *\n",
    "from collections import namedtuple\n",
    "import math\n",
    "from pandas import DataFrame"
   ]
  },
  {
   "cell_type": "code",
   "execution_count": 15,
   "metadata": {},
   "outputs": [],
   "source": [
    "today = Date(19, February, 2002)\n",
    "settlement = Date(19, February, 2002)\n",
    "Settings.instance().evaluationDate = today\n",
    "term_structure = YieldTermStructureHandle(FlatForward(settlement, 0.04875825, Actual365Fixed()))\n",
    "index = Euribor1Y(term_structure)"
   ]
  },
  {
   "cell_type": "code",
   "execution_count": 16,
   "metadata": {},
   "outputs": [],
   "source": [
    "CalibrationData = namedtuple(\"CalibrationData\", \"start, length, volatility\")\n",
    "data = [CalibrationData(1, 5, 0.1148),\n",
    "CalibrationData(2, 4, 0.1108),\n",
    "CalibrationData(3, 3, 0.1070),\n",
    "CalibrationData(4, 2, 0.1021),\n",
    "CalibrationData(5, 1, 0.1000 )]"
   ]
  },
  {
   "cell_type": "code",
   "execution_count": 17,
   "metadata": {},
   "outputs": [],
   "source": [
    "def create_swaption_helpers(data, index, term_structure, engine) :\n",
    "    swaptions = []\n",
    "    fixed_leg_tenor = Period(1, Years)\n",
    "    fixed_leg_daycounter = Actual360()\n",
    "    floating_leg_daycounter = Actual360()\n",
    "\n",
    "    for d in data :\n",
    "        vol_handle = QuoteHandle(SimpleQuote(d.volatility))\n",
    "        helper = SwaptionHelper(\n",
    "            Period(d.start, Years),\n",
    "            Period(d.length, Years),\n",
    "            vol_handle,\n",
    "            index,\n",
    "            fixed_leg_tenor,\n",
    "            fixed_leg_daycounter,\n",
    "            floating_leg_daycounter,\n",
    "            term_structure\n",
    "        )\n",
    "        helper.setPricingEngine(engine)\n",
    "        swaptions.append(helper)\n",
    "\n",
    "    return swaptions"
   ]
  },
  {
   "cell_type": "code",
   "execution_count": 18,
   "metadata": {},
   "outputs": [],
   "source": [
    "def calibration_report(swaptions, data):\n",
    "    columns = [\n",
    "        \"Model Price\", \"Market Price\", \"Implied Vol\", \"Market Vol\",\n",
    "        \"Rel Error Price\", \"Rel Error Vols\"\n",
    "    ]\n",
    "    report_data = []\n",
    "    cum_err = 0.0\n",
    "    cum_err2 = 0.0\n",
    "\n",
    "    for i, s in enumerate(swaptions):\n",
    "        model_price = s.modelValue()\n",
    "        market_vol = data[i].volatility\n",
    "        black_price = s.blackPrice(market_vol)\n",
    "        rel_error = model_price / black_price - 1.0\n",
    "        implied_vol = s.impliedVolatility(model_price, 1e-5, 50, 0.0, 0.50)\n",
    "        rel_error2 = implied_vol / market_vol - 1.0\n",
    "        cum_err += rel_error ** 2\n",
    "        cum_err2 += rel_error2 ** 2\n",
    "        report_data.append(\n",
    "            (model_price, black_price, implied_vol, market_vol, rel_error, rel_error2)\n",
    "        )\n",
    "    \n",
    "    print(\"Cumulative Error Price : %7.5f\" % math.sqrt(cum_err))\n",
    "    print(\"Cumulative Error Vols : %7.5f\" % math.sqrt(cum_err2))\n",
    "\n",
    "    return DataFrame(report_data, columns = columns, index = ['']*len(report_data))\n",
    "        "
   ]
  },
  {
   "cell_type": "markdown",
   "metadata": {},
   "source": [
    "### Calibration of the Hull-White Model"
   ]
  },
  {
   "cell_type": "code",
   "execution_count": 19,
   "metadata": {},
   "outputs": [
    {
     "name": "stdout",
     "output_type": "stream",
     "text": [
      "a = 0.04604, sigma = 0.00578\n"
     ]
    }
   ],
   "source": [
    "model = HullWhite(term_structure)\n",
    "engine = JamshidianSwaptionEngine(model)\n",
    "swaptions = create_swaption_helpers(data, index, term_structure, engine)\n",
    "optimization_method = LevenbergMarquardt(1.0e-8,1.0e-8,1.0e-8)\n",
    "end_criteria = EndCriteria(10000, 100, 1e-6, 1e-8, 1e-8)\n",
    "model.calibrate(swaptions, optimization_method, end_criteria)\n",
    "a, sigma = model.params()\n",
    "print(\"a = %6.5f, sigma = %6.5f\" % (a, sigma))"
   ]
  },
  {
   "cell_type": "code",
   "execution_count": 20,
   "metadata": {},
   "outputs": [
    {
     "name": "stdout",
     "output_type": "stream",
     "text": [
      "Cumulative Error Price : 0.11275\n",
      "Cumulative Error Vols : 0.11305\n"
     ]
    },
    {
     "data": {
      "text/html": [
       "<div>\n",
       "<style scoped>\n",
       "    .dataframe tbody tr th:only-of-type {\n",
       "        vertical-align: middle;\n",
       "    }\n",
       "\n",
       "    .dataframe tbody tr th {\n",
       "        vertical-align: top;\n",
       "    }\n",
       "\n",
       "    .dataframe thead th {\n",
       "        text-align: right;\n",
       "    }\n",
       "</style>\n",
       "<table border=\"1\" class=\"dataframe\">\n",
       "  <thead>\n",
       "    <tr style=\"text-align: right;\">\n",
       "      <th></th>\n",
       "      <th>Model Price</th>\n",
       "      <th>Market Price</th>\n",
       "      <th>Implied Vol</th>\n",
       "      <th>Market Vol</th>\n",
       "      <th>Rel Error Price</th>\n",
       "      <th>Rel Error Vols</th>\n",
       "    </tr>\n",
       "  </thead>\n",
       "  <tbody>\n",
       "    <tr>\n",
       "      <th></th>\n",
       "      <td>0.008755</td>\n",
       "      <td>0.009434</td>\n",
       "      <td>0.106534</td>\n",
       "      <td>0.1148</td>\n",
       "      <td>-0.071929</td>\n",
       "      <td>-0.072000</td>\n",
       "    </tr>\n",
       "    <tr>\n",
       "      <th></th>\n",
       "      <td>0.009647</td>\n",
       "      <td>0.010051</td>\n",
       "      <td>0.106341</td>\n",
       "      <td>0.1108</td>\n",
       "      <td>-0.040168</td>\n",
       "      <td>-0.040246</td>\n",
       "    </tr>\n",
       "    <tr>\n",
       "      <th></th>\n",
       "      <td>0.008643</td>\n",
       "      <td>0.008700</td>\n",
       "      <td>0.106296</td>\n",
       "      <td>0.1070</td>\n",
       "      <td>-0.006584</td>\n",
       "      <td>-0.006584</td>\n",
       "    </tr>\n",
       "    <tr>\n",
       "      <th></th>\n",
       "      <td>0.006476</td>\n",
       "      <td>0.006218</td>\n",
       "      <td>0.106345</td>\n",
       "      <td>0.1021</td>\n",
       "      <td>0.041422</td>\n",
       "      <td>0.041576</td>\n",
       "    </tr>\n",
       "    <tr>\n",
       "      <th></th>\n",
       "      <td>0.003534</td>\n",
       "      <td>0.003319</td>\n",
       "      <td>0.106484</td>\n",
       "      <td>0.1000</td>\n",
       "      <td>0.064543</td>\n",
       "      <td>0.064841</td>\n",
       "    </tr>\n",
       "  </tbody>\n",
       "</table>\n",
       "</div>"
      ],
      "text/plain": [
       "  Model Price  Market Price  Implied Vol  Market Vol  Rel Error Price  \\\n",
       "     0.008755      0.009434     0.106534      0.1148        -0.071929   \n",
       "     0.009647      0.010051     0.106341      0.1108        -0.040168   \n",
       "     0.008643      0.008700     0.106296      0.1070        -0.006584   \n",
       "     0.006476      0.006218     0.106345      0.1021         0.041422   \n",
       "     0.003534      0.003319     0.106484      0.1000         0.064543   \n",
       "\n",
       "  Rel Error Vols  \n",
       "       -0.072000  \n",
       "       -0.040246  \n",
       "       -0.006584  \n",
       "        0.041576  \n",
       "        0.064841  "
      ]
     },
     "execution_count": 20,
     "metadata": {},
     "output_type": "execute_result"
    }
   ],
   "source": [
    "calibration_report(swaptions, data)"
   ]
  },
  {
   "cell_type": "markdown",
   "metadata": {},
   "source": [
    "### Calibration of the Black Karasinski"
   ]
  },
  {
   "cell_type": "code",
   "execution_count": 21,
   "metadata": {},
   "outputs": [
    {
     "name": "stdout",
     "output_type": "stream",
     "text": [
      "a = 0.03921, sigma = 0.11642\n"
     ]
    }
   ],
   "source": [
    "model = BlackKarasinski(term_structure)\n",
    "engine = TreeSwaptionEngine(model, 100)\n",
    "swaptions = create_swaption_helpers(data, index, term_structure, engine)\n",
    "optimization_method = LevenbergMarquardt(1.0e-8,1.0e-8,1.0e-8)\n",
    "end_criteria = EndCriteria(10000, 100, 1e-6, 1e-8, 1e-8)\n",
    "model.calibrate(swaptions, optimization_method, end_criteria)\n",
    "a, sigma = model.params()\n",
    "print(\"a = %6.5f, sigma = %6.5f\" % (a, sigma))"
   ]
  },
  {
   "cell_type": "code",
   "execution_count": 22,
   "metadata": {},
   "outputs": [
    {
     "name": "stdout",
     "output_type": "stream",
     "text": [
      "Cumulative Error Price : 0.12073\n",
      "Cumulative Error Vols : 0.12104\n"
     ]
    },
    {
     "data": {
      "text/html": [
       "<div>\n",
       "<style scoped>\n",
       "    .dataframe tbody tr th:only-of-type {\n",
       "        vertical-align: middle;\n",
       "    }\n",
       "\n",
       "    .dataframe tbody tr th {\n",
       "        vertical-align: top;\n",
       "    }\n",
       "\n",
       "    .dataframe thead th {\n",
       "        text-align: right;\n",
       "    }\n",
       "</style>\n",
       "<table border=\"1\" class=\"dataframe\">\n",
       "  <thead>\n",
       "    <tr style=\"text-align: right;\">\n",
       "      <th></th>\n",
       "      <th>Model Price</th>\n",
       "      <th>Market Price</th>\n",
       "      <th>Implied Vol</th>\n",
       "      <th>Market Vol</th>\n",
       "      <th>Rel Error Price</th>\n",
       "      <th>Rel Error Vols</th>\n",
       "    </tr>\n",
       "  </thead>\n",
       "  <tbody>\n",
       "    <tr>\n",
       "      <th></th>\n",
       "      <td>0.008682</td>\n",
       "      <td>0.009434</td>\n",
       "      <td>0.105640</td>\n",
       "      <td>0.1148</td>\n",
       "      <td>-0.079716</td>\n",
       "      <td>-0.079794</td>\n",
       "    </tr>\n",
       "    <tr>\n",
       "      <th></th>\n",
       "      <td>0.009647</td>\n",
       "      <td>0.010051</td>\n",
       "      <td>0.106341</td>\n",
       "      <td>0.1108</td>\n",
       "      <td>-0.040170</td>\n",
       "      <td>-0.040248</td>\n",
       "    </tr>\n",
       "    <tr>\n",
       "      <th></th>\n",
       "      <td>0.008650</td>\n",
       "      <td>0.008700</td>\n",
       "      <td>0.106383</td>\n",
       "      <td>0.1070</td>\n",
       "      <td>-0.005770</td>\n",
       "      <td>-0.005770</td>\n",
       "    </tr>\n",
       "    <tr>\n",
       "      <th></th>\n",
       "      <td>0.006487</td>\n",
       "      <td>0.006218</td>\n",
       "      <td>0.106540</td>\n",
       "      <td>0.1021</td>\n",
       "      <td>0.043327</td>\n",
       "      <td>0.043489</td>\n",
       "    </tr>\n",
       "    <tr>\n",
       "      <th></th>\n",
       "      <td>0.003547</td>\n",
       "      <td>0.003319</td>\n",
       "      <td>0.106884</td>\n",
       "      <td>0.1000</td>\n",
       "      <td>0.068526</td>\n",
       "      <td>0.068845</td>\n",
       "    </tr>\n",
       "  </tbody>\n",
       "</table>\n",
       "</div>"
      ],
      "text/plain": [
       "  Model Price  Market Price  Implied Vol  Market Vol  Rel Error Price  \\\n",
       "     0.008682      0.009434     0.105640      0.1148        -0.079716   \n",
       "     0.009647      0.010051     0.106341      0.1108        -0.040170   \n",
       "     0.008650      0.008700     0.106383      0.1070        -0.005770   \n",
       "     0.006487      0.006218     0.106540      0.1021         0.043327   \n",
       "     0.003547      0.003319     0.106884      0.1000         0.068526   \n",
       "\n",
       "  Rel Error Vols  \n",
       "       -0.079794  \n",
       "       -0.040248  \n",
       "       -0.005770  \n",
       "        0.043489  \n",
       "        0.068845  "
      ]
     },
     "execution_count": 22,
     "metadata": {},
     "output_type": "execute_result"
    }
   ],
   "source": [
    "calibration_report(swaptions, data)"
   ]
  },
  {
   "cell_type": "markdown",
   "metadata": {},
   "source": [
    "### Calibration of G2++ Model"
   ]
  },
  {
   "cell_type": "code",
   "execution_count": 23,
   "metadata": {},
   "outputs": [
    {
     "name": "stdout",
     "output_type": "stream",
     "text": [
      "a = 0.04435, sigma = 0.00300, b = 0.03998, eta = 0.00472, rho = 0.03022 \n"
     ]
    }
   ],
   "source": [
    "model = G2(term_structure);\n",
    "engine = TreeSwaptionEngine(model, 25)\n",
    "# engine = G2SwaptionEngine(model, 10, 400)\n",
    "# engine = FdG2SwaptionEngine(model)\n",
    "swaptions = create_swaption_helpers(data, index, term_structure, engine)\n",
    "optimization_method = LevenbergMarquardt(1.0e-8,1.0e-8,1.0e-8)\n",
    "end_criteria = EndCriteria(1000, 100, 1e-6, 1e-8, 1e-8)\n",
    "model.calibrate(swaptions, optimization_method, end_criteria)\n",
    "a, sigma, b, eta, rho = model.params()\n",
    "print (\"a = %6.5f, sigma = %6.5f, b = %6.5f, eta = %6.5f, rho = %6.5f \" % (a, sigma, b, eta, rho))"
   ]
  },
  {
   "cell_type": "code",
   "execution_count": 24,
   "metadata": {},
   "outputs": [
    {
     "name": "stdout",
     "output_type": "stream",
     "text": [
      "Cumulative Error Price : 0.12160\n",
      "Cumulative Error Vols : 0.12192\n"
     ]
    },
    {
     "data": {
      "text/html": [
       "<div>\n",
       "<style scoped>\n",
       "    .dataframe tbody tr th:only-of-type {\n",
       "        vertical-align: middle;\n",
       "    }\n",
       "\n",
       "    .dataframe tbody tr th {\n",
       "        vertical-align: top;\n",
       "    }\n",
       "\n",
       "    .dataframe thead th {\n",
       "        text-align: right;\n",
       "    }\n",
       "</style>\n",
       "<table border=\"1\" class=\"dataframe\">\n",
       "  <thead>\n",
       "    <tr style=\"text-align: right;\">\n",
       "      <th></th>\n",
       "      <th>Model Price</th>\n",
       "      <th>Market Price</th>\n",
       "      <th>Implied Vol</th>\n",
       "      <th>Market Vol</th>\n",
       "      <th>Rel Error Price</th>\n",
       "      <th>Rel Error Vols</th>\n",
       "    </tr>\n",
       "  </thead>\n",
       "  <tbody>\n",
       "    <tr>\n",
       "      <th></th>\n",
       "      <td>0.008670</td>\n",
       "      <td>0.009434</td>\n",
       "      <td>0.105500</td>\n",
       "      <td>0.1148</td>\n",
       "      <td>-0.080936</td>\n",
       "      <td>-0.081014</td>\n",
       "    </tr>\n",
       "    <tr>\n",
       "      <th></th>\n",
       "      <td>0.009649</td>\n",
       "      <td>0.010051</td>\n",
       "      <td>0.106364</td>\n",
       "      <td>0.1108</td>\n",
       "      <td>-0.039962</td>\n",
       "      <td>-0.040039</td>\n",
       "    </tr>\n",
       "    <tr>\n",
       "      <th></th>\n",
       "      <td>0.008648</td>\n",
       "      <td>0.008700</td>\n",
       "      <td>0.106350</td>\n",
       "      <td>0.1070</td>\n",
       "      <td>-0.006074</td>\n",
       "      <td>-0.006074</td>\n",
       "    </tr>\n",
       "    <tr>\n",
       "      <th></th>\n",
       "      <td>0.006487</td>\n",
       "      <td>0.006218</td>\n",
       "      <td>0.106526</td>\n",
       "      <td>0.1021</td>\n",
       "      <td>0.043188</td>\n",
       "      <td>0.043349</td>\n",
       "    </tr>\n",
       "    <tr>\n",
       "      <th></th>\n",
       "      <td>0.003548</td>\n",
       "      <td>0.003319</td>\n",
       "      <td>0.106915</td>\n",
       "      <td>0.1000</td>\n",
       "      <td>0.068834</td>\n",
       "      <td>0.069154</td>\n",
       "    </tr>\n",
       "  </tbody>\n",
       "</table>\n",
       "</div>"
      ],
      "text/plain": [
       "  Model Price  Market Price  Implied Vol  Market Vol  Rel Error Price  \\\n",
       "     0.008670      0.009434     0.105500      0.1148        -0.080936   \n",
       "     0.009649      0.010051     0.106364      0.1108        -0.039962   \n",
       "     0.008648      0.008700     0.106350      0.1070        -0.006074   \n",
       "     0.006487      0.006218     0.106526      0.1021         0.043188   \n",
       "     0.003548      0.003319     0.106915      0.1000         0.068834   \n",
       "\n",
       "  Rel Error Vols  \n",
       "       -0.081014  \n",
       "       -0.040039  \n",
       "       -0.006074  \n",
       "        0.043349  \n",
       "        0.069154  "
      ]
     },
     "execution_count": 24,
     "metadata": {},
     "output_type": "execute_result"
    }
   ],
   "source": [
    "calibration_report(swaptions, data)"
   ]
  },
  {
   "cell_type": "markdown",
   "metadata": {},
   "source": [
    "### Plotting Calibrated IR using HW, BK, G2++"
   ]
  },
  {
   "cell_type": "code",
   "execution_count": 12,
   "metadata": {},
   "outputs": [],
   "source": [
    "import numpy as np\n",
    "import plotly.graph_objects as go\n",
    "from plotly.subplots import make_subplots\n",
    "\n",
    "# Model parameters\n",
    "\n",
    "# Hull-White parameters\n",
    "a_hw = 0.04604\n",
    "sigma_hw = 0.00578\n",
    "\n",
    "# Black-Karasinski parameters\n",
    "a_bk = 0.03921\n",
    "sigma_bk = 0.11642\n",
    "\n",
    "# G2++ parameters\n",
    "a_g2 = 0.04435 \n",
    "sigma_g2 = 0.00300\n",
    "b_g2 = 0.03998\n",
    "eta_g2 = 0.00472\n",
    "rho_g2 = 0.0  # Using exact zero for simplicity\n",
    "\n",
    "# Simulation settings\n",
    "r0 = 0.01 # Initial short rate\n",
    "T = 5 # Total time in years\n",
    "dt = 1/252 # Daily time steps\n",
    "n_steps = int(T/dt)\n",
    "n_paths = 100\n",
    "\n",
    "# Time array for plotting\n",
    "time = np.linspace(0, T, n_steps)\n",
    "\n",
    "# Preallocate matrices for rate simulations\n",
    "rates_hw = np.zeros((n_steps, n_paths))\n",
    "rates_bk = np.zeros((n_steps, n_paths))\n",
    "rates_g2 = np.zeros((n_steps, n_paths))\n",
    "rates_hw[0,:] = r0\n",
    "rates_bk[0,:] = np.log(r0) # For BK, work with log-rates\n",
    "rates_g2[0,:] = r0\n",
    "\n",
    "# Simulation\n",
    "sqrt_dt = np.sqrt(dt)\n",
    "\n",
    "for t in range(1, n_steps) :\n",
    "    dw = np.random.normal(0, sqrt_dt, (n_paths, 2))\n",
    "    # Hull-hite simulation\n",
    "    rates_hw[t, :] = rates_hw[t-1, :] + a_hw * (r0 - rates_hw[t-1, :]) * dt + sigma_hw * dw.T[0]\n",
    "\n",
    "    # Black-Karasinski simulation\n",
    "    rates_bk[t, :] = rates_bk[t-1, :] + a_bk * (np.log(r0) - rates_bk[t-1, :]) * dt + sigma_bk * dw.T[0]\n",
    "\n",
    "    # G2++ simulation (simplified as a single factor for illustration)\n",
    "    rates_g2[t, :] = rates_g2[t-1, :] + a_g2 * (r0 - rates_g2[t-1, :]) * dt + sigma_g2 * dw.T[0] \n",
    "\n",
    "# Convert rates for BK from log back to linear scale for plotting\n",
    "rates_bk = np.exp(rates_bk)\n",
    "\n",
    "# Create  Plotly subplots\n",
    "fig = make_subplots(rows=1, cols=3, subplot_titles=(\"Black-Karasinski\", \"Hull-White\", \"G2++\"))\n",
    "\n",
    "# Plotting each path for each model\n",
    "for i in range(n_paths) :\n",
    "    fig.add_trace(go.Scatter(x=time, y=rates_bk[:, i], mode='lines', line=dict(width = 1, color = 'red'), showlegend=False), row=1, col=1)\n",
    "    fig.add_trace(go.Scatter(x=time, y=rates_hw[:, i], mode='lines', line=dict(width = 1, color = 'blue'), showlegend=False), row=1, col=2)\n",
    "    fig.add_trace(go.Scatter(x=time, y=rates_g2[:, i], mode='lines', line=dict(width = 1, color = 'green'), showlegend=False), row=1, col=3)\n",
    "\n",
    "\n",
    "# Update layout to arrange subplot\n",
    "fig.update_layout(title = 'Interest Rate Model Simulations',\n",
    "                  xaxis_title='Years', yaxis_title='BK Rates',\n",
    "                  xaxis2_title='Years', yaxis2_title='HW Rates',\n",
    "                  xaxis3_title='Years', yaxis3_title='G2++ Rates',\n",
    "                  template='plotly_dark', height=400, width=1250)\n",
    "\n",
    "fig.show()"
   ]
  }
 ],
 "metadata": {
  "kernelspec": {
   "display_name": "Python 3 (ipykernel)",
   "language": "python",
   "name": "python3"
  },
  "language_info": {
   "codemirror_mode": {
    "name": "ipython",
    "version": 3
   },
   "file_extension": ".py",
   "mimetype": "text/x-python",
   "name": "python",
   "nbconvert_exporter": "python",
   "pygments_lexer": "ipython3",
   "version": "3.11.4"
  }
 },
 "nbformat": 4,
 "nbformat_minor": 2
}
